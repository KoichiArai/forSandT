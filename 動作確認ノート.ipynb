{
 "cells": [
  {
   "cell_type": "code",
   "execution_count": 5,
   "id": "8d587d34-9e79-41a9-a6e3-3ac73eb1b64a",
   "metadata": {},
   "outputs": [],
   "source": [
    "from selenium import webdriver\n",
    "from selenium.webdriver.common.by import By\n",
    "browser = webdriver.Chrome()\n",
    "browser.get(\"https://relax-job.com/search?business_type=biyoshi&employment=regular-member&feature=new-graduate.student&occupation=assistant_position&pref=1&sort=new\")"
   ]
  },
  {
   "cell_type": "code",
   "execution_count": 80,
   "id": "632c2c24-5d09-4fdf-8e22-b3365a2ccf63",
   "metadata": {
    "scrolled": true
   },
   "outputs": [
    {
     "data": {
      "text/plain": [
       "[<selenium.webdriver.remote.webelement.WebElement (session=\"05fa9a9a64b1929409b6c34509695586\", element=\"90B1FDA646816B9571C97C23C0B92EE4_element_89\")>,\n",
       " <selenium.webdriver.remote.webelement.WebElement (session=\"05fa9a9a64b1929409b6c34509695586\", element=\"90B1FDA646816B9571C97C23C0B92EE4_element_90\")>,\n",
       " <selenium.webdriver.remote.webelement.WebElement (session=\"05fa9a9a64b1929409b6c34509695586\", element=\"90B1FDA646816B9571C97C23C0B92EE4_element_91\")>,\n",
       " <selenium.webdriver.remote.webelement.WebElement (session=\"05fa9a9a64b1929409b6c34509695586\", element=\"90B1FDA646816B9571C97C23C0B92EE4_element_92\")>,\n",
       " <selenium.webdriver.remote.webelement.WebElement (session=\"05fa9a9a64b1929409b6c34509695586\", element=\"90B1FDA646816B9571C97C23C0B92EE4_element_93\")>,\n",
       " <selenium.webdriver.remote.webelement.WebElement (session=\"05fa9a9a64b1929409b6c34509695586\", element=\"90B1FDA646816B9571C97C23C0B92EE4_element_94\")>,\n",
       " <selenium.webdriver.remote.webelement.WebElement (session=\"05fa9a9a64b1929409b6c34509695586\", element=\"90B1FDA646816B9571C97C23C0B92EE4_element_95\")>,\n",
       " <selenium.webdriver.remote.webelement.WebElement (session=\"05fa9a9a64b1929409b6c34509695586\", element=\"90B1FDA646816B9571C97C23C0B92EE4_element_96\")>,\n",
       " <selenium.webdriver.remote.webelement.WebElement (session=\"05fa9a9a64b1929409b6c34509695586\", element=\"90B1FDA646816B9571C97C23C0B92EE4_element_97\")>,\n",
       " <selenium.webdriver.remote.webelement.WebElement (session=\"05fa9a9a64b1929409b6c34509695586\", element=\"90B1FDA646816B9571C97C23C0B92EE4_element_98\")>,\n",
       " <selenium.webdriver.remote.webelement.WebElement (session=\"05fa9a9a64b1929409b6c34509695586\", element=\"90B1FDA646816B9571C97C23C0B92EE4_element_99\")>,\n",
       " <selenium.webdriver.remote.webelement.WebElement (session=\"05fa9a9a64b1929409b6c34509695586\", element=\"90B1FDA646816B9571C97C23C0B92EE4_element_100\")>,\n",
       " <selenium.webdriver.remote.webelement.WebElement (session=\"05fa9a9a64b1929409b6c34509695586\", element=\"90B1FDA646816B9571C97C23C0B92EE4_element_101\")>,\n",
       " <selenium.webdriver.remote.webelement.WebElement (session=\"05fa9a9a64b1929409b6c34509695586\", element=\"90B1FDA646816B9571C97C23C0B92EE4_element_102\")>,\n",
       " <selenium.webdriver.remote.webelement.WebElement (session=\"05fa9a9a64b1929409b6c34509695586\", element=\"90B1FDA646816B9571C97C23C0B92EE4_element_103\")>,\n",
       " <selenium.webdriver.remote.webelement.WebElement (session=\"05fa9a9a64b1929409b6c34509695586\", element=\"90B1FDA646816B9571C97C23C0B92EE4_element_104\")>,\n",
       " <selenium.webdriver.remote.webelement.WebElement (session=\"05fa9a9a64b1929409b6c34509695586\", element=\"90B1FDA646816B9571C97C23C0B92EE4_element_105\")>,\n",
       " <selenium.webdriver.remote.webelement.WebElement (session=\"05fa9a9a64b1929409b6c34509695586\", element=\"90B1FDA646816B9571C97C23C0B92EE4_element_106\")>,\n",
       " <selenium.webdriver.remote.webelement.WebElement (session=\"05fa9a9a64b1929409b6c34509695586\", element=\"90B1FDA646816B9571C97C23C0B92EE4_element_107\")>,\n",
       " <selenium.webdriver.remote.webelement.WebElement (session=\"05fa9a9a64b1929409b6c34509695586\", element=\"90B1FDA646816B9571C97C23C0B92EE4_element_108\")>]"
      ]
     },
     "execution_count": 80,
     "metadata": {},
     "output_type": "execute_result"
    }
   ],
   "source": [
    "elems = browser.find_elements(By.CLASS_NAME, 'sc-kBqmDu')\n",
    "elems"
   ]
  },
  {
   "cell_type": "code",
   "execution_count": 12,
   "id": "ccb31e8a-e523-443b-b034-f553df90d68a",
   "metadata": {},
   "outputs": [
    {
     "data": {
      "text/plain": [
       "'プラーナ'"
      ]
     },
     "execution_count": 12,
     "metadata": {},
     "output_type": "execute_result"
    }
   ],
   "source": [
    "elemShopName = elems[1].find_element(By.CLASS_NAME, 'sc-bwcZwS')\n",
    "elemShopName.text.split(\"│\")[0]"
   ]
  },
  {
   "cell_type": "code",
   "execution_count": 16,
   "id": "9fb9751e-2814-4a06-ae0b-1834b65bce97",
   "metadata": {},
   "outputs": [
    {
     "data": {
      "text/plain": [
       "'☆新卒歓迎☆アシスタント期間中でも昇給あり！/引越・住宅手当あり/その他手当多数'"
      ]
     },
     "execution_count": 16,
     "metadata": {},
     "output_type": "execute_result"
    }
   ],
   "source": [
    "elemCatchCopy = elems[3].find_element(By.CLASS_NAME, 'header-text')\n",
    "elemCatchCopy.text"
   ]
  },
  {
   "cell_type": "code",
   "execution_count": 21,
   "id": "6a643700-90e5-496d-b5a1-b7c570791aa2",
   "metadata": {},
   "outputs": [
    {
     "data": {
      "text/plain": [
       "'正社員 / 月給20万円 〜 25万円'"
      ]
     },
     "execution_count": 21,
     "metadata": {},
     "output_type": "execute_result"
    }
   ],
   "source": [
    "elemSalary = elems[4].find_element(By.TAG_NAME, 'dd')\n",
    "elemSalary.text"
   ]
  },
  {
   "cell_type": "code",
   "execution_count": 62,
   "id": "5abc6ce2-88e0-429d-b65a-2672671c63f8",
   "metadata": {},
   "outputs": [
    {
     "name": "stdout",
     "output_type": "stream",
     "text": [
      "Briller\n",
      "北海道札幌市 厚別中央1条2丁目1-58 ニュープログレスビル1F\n",
      "ひばりが丘駅 徒歩 4分 (札幌市営地下鉄東西線)\n"
     ]
    }
   ],
   "source": [
    "if not elems[2].find_elements(By.CLASS_NAME, 'main-table-list'):\n",
    "    elemAccess = elems[2].find_element(By.CLASS_NAME, 'sc-hUhoqY')\n",
    "    print(elemAccess.text)\n",
    "else:\n",
    "    elemsAccess = elems[2].find_elements(By.CLASS_NAME, 'main-table-list')\n",
    "    for elemAccess in elemsAccess:\n",
    "        print(elemAccess.text)"
   ]
  },
  {
   "cell_type": "code",
   "execution_count": 102,
   "id": "82dc8b3a-befa-4ba0-a108-135d3a1207c7",
   "metadata": {},
   "outputs": [
    {
     "data": {
      "text/plain": [
       "'data:image/gif;base64,R0lGODlhAQABAGAAACH5BAEKAP8ALAAAAAABAAEAAAgEAP8FBAA7'"
      ]
     },
     "execution_count": 102,
     "metadata": {},
     "output_type": "execute_result"
    }
   ],
   "source": [
    "\n",
    "elemThumbnail = elems[].find_element(By.CLASS_NAME, 'main-contents-outer').find_element(By.CLASS_NAME, '_11zmjq02').get_attribute('src')\n",
    "elemThumbnail"
   ]
  },
  {
   "cell_type": "code",
   "execution_count": 104,
   "id": "d1de7d95-351e-43a6-954c-51aeaa9ce929",
   "metadata": {},
   "outputs": [
    {
     "data": {
      "text/plain": [
       "'https://relax-job.com/entry/B7724768'"
      ]
     },
     "execution_count": 104,
     "metadata": {},
     "output_type": "execute_result"
    }
   ],
   "source": [
    "elemLinktoApply = elems[1].find_element(By.CLASS_NAME, 'sc-havuDZ').find_element(By.CLASS_NAME, 'apply-button').get_attribute('href')\n",
    "elemLinktoApply"
   ]
  },
  {
   "cell_type": "markdown",
   "id": "110e428c-1646-4ce8-a45d-0bcad5430cbc",
   "metadata": {},
   "source": [
    "## ホットペッパービューティーワークス"
   ]
  },
  {
   "cell_type": "code",
   "execution_count": 1,
   "id": "37764dd2-dcb6-4a35-a57a-5737f7077eaa",
   "metadata": {},
   "outputs": [],
   "source": [
    "from selenium import webdriver\n",
    "from selenium.webdriver.common.by import By\n",
    "browser = webdriver.Chrome()\n",
    "browser.get('https://work.beauty.hotpepper.jp/search/?prefecture=01&occupation=OC01&salary_amount=&employment_pattern=EP1&kodawari_condition=KO02&kodawari_condition=')"
   ]
  },
  {
   "cell_type": "code",
   "execution_count": 2,
   "id": "16e06ea8-0a75-4b3f-a903-880633b21438",
   "metadata": {},
   "outputs": [
    {
     "data": {
      "text/plain": [
       "[<selenium.webdriver.remote.webelement.WebElement (session=\"b236a492f3450122e34b7079c916bf92\", element=\"0462F5B734A196F45892AE59B8B1F022_element_216\")>,\n",
       " <selenium.webdriver.remote.webelement.WebElement (session=\"b236a492f3450122e34b7079c916bf92\", element=\"0462F5B734A196F45892AE59B8B1F022_element_220\")>,\n",
       " <selenium.webdriver.remote.webelement.WebElement (session=\"b236a492f3450122e34b7079c916bf92\", element=\"0462F5B734A196F45892AE59B8B1F022_element_221\")>,\n",
       " <selenium.webdriver.remote.webelement.WebElement (session=\"b236a492f3450122e34b7079c916bf92\", element=\"0462F5B734A196F45892AE59B8B1F022_element_222\")>,\n",
       " <selenium.webdriver.remote.webelement.WebElement (session=\"b236a492f3450122e34b7079c916bf92\", element=\"0462F5B734A196F45892AE59B8B1F022_element_223\")>,\n",
       " <selenium.webdriver.remote.webelement.WebElement (session=\"b236a492f3450122e34b7079c916bf92\", element=\"0462F5B734A196F45892AE59B8B1F022_element_224\")>,\n",
       " <selenium.webdriver.remote.webelement.WebElement (session=\"b236a492f3450122e34b7079c916bf92\", element=\"0462F5B734A196F45892AE59B8B1F022_element_225\")>,\n",
       " <selenium.webdriver.remote.webelement.WebElement (session=\"b236a492f3450122e34b7079c916bf92\", element=\"0462F5B734A196F45892AE59B8B1F022_element_226\")>,\n",
       " <selenium.webdriver.remote.webelement.WebElement (session=\"b236a492f3450122e34b7079c916bf92\", element=\"0462F5B734A196F45892AE59B8B1F022_element_227\")>,\n",
       " <selenium.webdriver.remote.webelement.WebElement (session=\"b236a492f3450122e34b7079c916bf92\", element=\"0462F5B734A196F45892AE59B8B1F022_element_228\")>,\n",
       " <selenium.webdriver.remote.webelement.WebElement (session=\"b236a492f3450122e34b7079c916bf92\", element=\"0462F5B734A196F45892AE59B8B1F022_element_229\")>,\n",
       " <selenium.webdriver.remote.webelement.WebElement (session=\"b236a492f3450122e34b7079c916bf92\", element=\"0462F5B734A196F45892AE59B8B1F022_element_230\")>,\n",
       " <selenium.webdriver.remote.webelement.WebElement (session=\"b236a492f3450122e34b7079c916bf92\", element=\"0462F5B734A196F45892AE59B8B1F022_element_231\")>,\n",
       " <selenium.webdriver.remote.webelement.WebElement (session=\"b236a492f3450122e34b7079c916bf92\", element=\"0462F5B734A196F45892AE59B8B1F022_element_232\")>,\n",
       " <selenium.webdriver.remote.webelement.WebElement (session=\"b236a492f3450122e34b7079c916bf92\", element=\"0462F5B734A196F45892AE59B8B1F022_element_233\")>,\n",
       " <selenium.webdriver.remote.webelement.WebElement (session=\"b236a492f3450122e34b7079c916bf92\", element=\"0462F5B734A196F45892AE59B8B1F022_element_234\")>,\n",
       " <selenium.webdriver.remote.webelement.WebElement (session=\"b236a492f3450122e34b7079c916bf92\", element=\"0462F5B734A196F45892AE59B8B1F022_element_235\")>,\n",
       " <selenium.webdriver.remote.webelement.WebElement (session=\"b236a492f3450122e34b7079c916bf92\", element=\"0462F5B734A196F45892AE59B8B1F022_element_236\")>,\n",
       " <selenium.webdriver.remote.webelement.WebElement (session=\"b236a492f3450122e34b7079c916bf92\", element=\"0462F5B734A196F45892AE59B8B1F022_element_237\")>,\n",
       " <selenium.webdriver.remote.webelement.WebElement (session=\"b236a492f3450122e34b7079c916bf92\", element=\"0462F5B734A196F45892AE59B8B1F022_element_238\")>]"
      ]
     },
     "execution_count": 2,
     "metadata": {},
     "output_type": "execute_result"
    }
   ],
   "source": [
    "elems = browser.find_elements(By.CLASS_NAME, 'l-card')\n",
    "elems"
   ]
  },
  {
   "cell_type": "code",
   "execution_count": 3,
   "id": "d8761c64-ad47-45b2-82ce-4e28d1ecabca",
   "metadata": {},
   "outputs": [
    {
     "data": {
      "text/plain": [
       "'https://cdn.work.hotp.jp/publish-image/publish/store-picture/97/22/4ee8cddf-a2eb-4c42-9496-eada649df6e3.jpg?20230424&w=1296&h=864&impolicy=WHPB_policy_default'"
      ]
     },
     "execution_count": 3,
     "metadata": {},
     "output_type": "execute_result"
    }
   ],
   "source": [
    "elemThumbnail = elems[0].find_element(By.CLASS_NAME, 'job-posting__carousel').find_element(By.TAG_NAME, 'img').get_attribute('data-src')\n",
    "elemThumbnail"
   ]
  },
  {
   "cell_type": "code",
   "execution_count": 4,
   "id": "0f472464-bafe-4756-8027-a2c77e0663fd",
   "metadata": {},
   "outputs": [
    {
     "data": {
      "text/plain": [
       "'Orque （オルク）（株式会社 Ｌｅｖｅｒ）'"
      ]
     },
     "execution_count": 4,
     "metadata": {},
     "output_type": "execute_result"
    }
   ],
   "source": [
    "elemShopName = elems[9].find_element(By.CLASS_NAME, 'job-posting__brand-name')\n",
    "elemShopName.text.replace('\\u3000',' ')"
   ]
  },
  {
   "cell_type": "code",
   "execution_count": 5,
   "id": "382874e5-16fb-4944-85b6-a4a3ac1772aa",
   "metadata": {},
   "outputs": [
    {
     "data": {
      "text/plain": [
       "'トータルビューティーサロン/教育カリキュラム充実/1人暮らし支援制度/休み月８～９回/初任給21万'"
      ]
     },
     "execution_count": 5,
     "metadata": {},
     "output_type": "execute_result"
    }
   ],
   "source": [
    "elemCatchCopy = elems[0].find_element(By.CLASS_NAME, 'job-posting__job-catch')\n",
    "elemCatchCopy.text"
   ]
  },
  {
   "cell_type": "code",
   "execution_count": 6,
   "id": "05a973ec-f249-4f31-b0b6-8801f7623962",
   "metadata": {},
   "outputs": [
    {
     "data": {
      "text/plain": [
       "'月給21万円'"
      ]
     },
     "execution_count": 6,
     "metadata": {},
     "output_type": "execute_result"
    }
   ],
   "source": [
    "elemSalary = elems[0].find_element(By.CLASS_NAME, 'job-description-summary__item')\n",
    "elemSalary.text"
   ]
  },
  {
   "cell_type": "code",
   "execution_count": 18,
   "id": "d2af3c94-5dc9-4a3f-8cdd-eade9e7b3bd6",
   "metadata": {},
   "outputs": [
    {
     "name": "stdout",
     "output_type": "stream",
     "text": [
      "https://work.beauty.hotpepper.jp/WC00005111/WS0000036725/\n",
      "レミー(Remii)\n",
      "大通駅 徒歩5分\n",
      "https://work.beauty.hotpepper.jp/WC00005111/WS0000036724/\n",
      "プールドゥマン 屯田(POUR DEMAIN)\n",
      "麻生駅 バスなど車両利用10分\n",
      "https://work.beauty.hotpepper.jp/WC00005111/WS0000036720/\n",
      "リモア(limore)\n",
      "福住駅 徒歩10分\n"
     ]
    }
   ],
   "source": [
    "if len(elems[2].find_elements(By.CLASS_NAME, 'job-posting__recruitment-store-link')) == 1:\n",
    "    #print(\"hoge\")\n",
    "    elemAccess = elems[0].find_element(By.CLASS_NAME, 'job-posting__recruitment-store-link')\n",
    "    elemAccessLink = elemAccess.get_attribute('href')\n",
    "    print(elemAccessLink)\n",
    "    elemAccessShopName = elemAccess.find_element(By.CLASS_NAME, 'job-posting__recruitment-store-name')\n",
    "    print(elemAccessShopName.text)\n",
    "    elemAccessRoute = elemAccess.find_element(By.CLASS_NAME, 'job-posting__recruitment-store-access')\n",
    "    print(elemAccessRoute.text)\n",
    "else:\n",
    "    #print('hogehoge')\n",
    "    elemsAccess = elems[2].find_elements(By.CLASS_NAME, 'job-posting__recruitment-store-link')\n",
    "    for elemAccess in elemsAccess:\n",
    "        elemAccessLink = elemAccess.get_attribute('href')\n",
    "        print(elemAccessLink)\n",
    "        elemAccessShopName = elemAccess.find_element(By.CLASS_NAME, 'job-posting__recruitment-store-name')\n",
    "        print(elemAccessShopName.text)\n",
    "        elemAccessRoute = elemAccess.find_element(By.CLASS_NAME, 'job-posting__recruitment-store-access')\n",
    "        print(elemAccessRoute.text)"
   ]
  },
  {
   "cell_type": "code",
   "execution_count": null,
   "id": "26ec51d3-6f1b-4d58-b7a6-5dd6e5001963",
   "metadata": {},
   "outputs": [],
   "source": []
  }
 ],
 "metadata": {
  "kernelspec": {
   "display_name": "Python 3 (ipykernel)",
   "language": "python",
   "name": "python3"
  },
  "language_info": {
   "codemirror_mode": {
    "name": "ipython",
    "version": 3
   },
   "file_extension": ".py",
   "mimetype": "text/x-python",
   "name": "python",
   "nbconvert_exporter": "python",
   "pygments_lexer": "ipython3",
   "version": "3.8.18"
  }
 },
 "nbformat": 4,
 "nbformat_minor": 5
}
