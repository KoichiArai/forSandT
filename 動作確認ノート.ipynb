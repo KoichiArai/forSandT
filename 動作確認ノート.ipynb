{
 "cells": [
  {
   "cell_type": "code",
   "execution_count": 3,
   "id": "8d587d34-9e79-41a9-a6e3-3ac73eb1b64a",
   "metadata": {},
   "outputs": [],
   "source": [
    "from selenium import webdriver\n",
    "from selenium.webdriver.common.by import By\n",
    "browser = webdriver.Chrome()\n",
    "browser.get(\"https://relax-job.com/search?business_type=biyoshi&employment=regular-member&feature=new-graduate.student&occupation=assistant_position&pref=1&sort=new\")"
   ]
  },
  {
   "cell_type": "code",
   "execution_count": null,
   "id": "632c2c24-5d09-4fdf-8e22-b3365a2ccf63",
   "metadata": {},
   "outputs": [],
   "source": [
    "elem = browser.find_element(By.CLASS_NAME, 'p-job-table-innerlist__item')\n"
   ]
  }
 ],
 "metadata": {
  "kernelspec": {
   "display_name": "Python 3 (ipykernel)",
   "language": "python",
   "name": "python3"
  },
  "language_info": {
   "codemirror_mode": {
    "name": "ipython",
    "version": 3
   },
   "file_extension": ".py",
   "mimetype": "text/x-python",
   "name": "python",
   "nbconvert_exporter": "python",
   "pygments_lexer": "ipython3",
   "version": "3.8.18"
  }
 },
 "nbformat": 4,
 "nbformat_minor": 5
}
