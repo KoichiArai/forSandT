{
 "cells": [
  {
   "cell_type": "code",
   "execution_count": 5,
   "id": "8d587d34-9e79-41a9-a6e3-3ac73eb1b64a",
   "metadata": {},
   "outputs": [],
   "source": [
    "from selenium import webdriver\n",
    "from selenium.webdriver.common.by import By\n",
    "browser = webdriver.Chrome()\n",
    "browser.get(\"https://relax-job.com/search?business_type=biyoshi&employment=regular-member&feature=new-graduate.student&occupation=assistant_position&pref=1&sort=new\")"
   ]
  },
  {
   "cell_type": "code",
   "execution_count": 6,
   "id": "632c2c24-5d09-4fdf-8e22-b3365a2ccf63",
   "metadata": {},
   "outputs": [
    {
     "data": {
      "text/plain": [
       "[<selenium.webdriver.remote.webelement.WebElement (session=\"05fa9a9a64b1929409b6c34509695586\", element=\"90B1FDA646816B9571C97C23C0B92EE4_element_89\")>,\n",
       " <selenium.webdriver.remote.webelement.WebElement (session=\"05fa9a9a64b1929409b6c34509695586\", element=\"90B1FDA646816B9571C97C23C0B92EE4_element_90\")>,\n",
       " <selenium.webdriver.remote.webelement.WebElement (session=\"05fa9a9a64b1929409b6c34509695586\", element=\"90B1FDA646816B9571C97C23C0B92EE4_element_91\")>,\n",
       " <selenium.webdriver.remote.webelement.WebElement (session=\"05fa9a9a64b1929409b6c34509695586\", element=\"90B1FDA646816B9571C97C23C0B92EE4_element_92\")>,\n",
       " <selenium.webdriver.remote.webelement.WebElement (session=\"05fa9a9a64b1929409b6c34509695586\", element=\"90B1FDA646816B9571C97C23C0B92EE4_element_93\")>,\n",
       " <selenium.webdriver.remote.webelement.WebElement (session=\"05fa9a9a64b1929409b6c34509695586\", element=\"90B1FDA646816B9571C97C23C0B92EE4_element_94\")>,\n",
       " <selenium.webdriver.remote.webelement.WebElement (session=\"05fa9a9a64b1929409b6c34509695586\", element=\"90B1FDA646816B9571C97C23C0B92EE4_element_95\")>,\n",
       " <selenium.webdriver.remote.webelement.WebElement (session=\"05fa9a9a64b1929409b6c34509695586\", element=\"90B1FDA646816B9571C97C23C0B92EE4_element_96\")>,\n",
       " <selenium.webdriver.remote.webelement.WebElement (session=\"05fa9a9a64b1929409b6c34509695586\", element=\"90B1FDA646816B9571C97C23C0B92EE4_element_97\")>,\n",
       " <selenium.webdriver.remote.webelement.WebElement (session=\"05fa9a9a64b1929409b6c34509695586\", element=\"90B1FDA646816B9571C97C23C0B92EE4_element_98\")>,\n",
       " <selenium.webdriver.remote.webelement.WebElement (session=\"05fa9a9a64b1929409b6c34509695586\", element=\"90B1FDA646816B9571C97C23C0B92EE4_element_99\")>,\n",
       " <selenium.webdriver.remote.webelement.WebElement (session=\"05fa9a9a64b1929409b6c34509695586\", element=\"90B1FDA646816B9571C97C23C0B92EE4_element_100\")>,\n",
       " <selenium.webdriver.remote.webelement.WebElement (session=\"05fa9a9a64b1929409b6c34509695586\", element=\"90B1FDA646816B9571C97C23C0B92EE4_element_101\")>,\n",
       " <selenium.webdriver.remote.webelement.WebElement (session=\"05fa9a9a64b1929409b6c34509695586\", element=\"90B1FDA646816B9571C97C23C0B92EE4_element_102\")>,\n",
       " <selenium.webdriver.remote.webelement.WebElement (session=\"05fa9a9a64b1929409b6c34509695586\", element=\"90B1FDA646816B9571C97C23C0B92EE4_element_103\")>,\n",
       " <selenium.webdriver.remote.webelement.WebElement (session=\"05fa9a9a64b1929409b6c34509695586\", element=\"90B1FDA646816B9571C97C23C0B92EE4_element_104\")>,\n",
       " <selenium.webdriver.remote.webelement.WebElement (session=\"05fa9a9a64b1929409b6c34509695586\", element=\"90B1FDA646816B9571C97C23C0B92EE4_element_105\")>,\n",
       " <selenium.webdriver.remote.webelement.WebElement (session=\"05fa9a9a64b1929409b6c34509695586\", element=\"90B1FDA646816B9571C97C23C0B92EE4_element_106\")>,\n",
       " <selenium.webdriver.remote.webelement.WebElement (session=\"05fa9a9a64b1929409b6c34509695586\", element=\"90B1FDA646816B9571C97C23C0B92EE4_element_107\")>,\n",
       " <selenium.webdriver.remote.webelement.WebElement (session=\"05fa9a9a64b1929409b6c34509695586\", element=\"90B1FDA646816B9571C97C23C0B92EE4_element_108\")>]"
      ]
     },
     "execution_count": 6,
     "metadata": {},
     "output_type": "execute_result"
    }
   ],
   "source": [
    "elems = browser.find_elements(By.CLASS_NAME, 'sc-kBqmDu')\n",
    "elems"
   ]
  },
  {
   "cell_type": "code",
   "execution_count": 12,
   "id": "ccb31e8a-e523-443b-b034-f553df90d68a",
   "metadata": {},
   "outputs": [
    {
     "data": {
      "text/plain": [
       "'プラーナ'"
      ]
     },
     "execution_count": 12,
     "metadata": {},
     "output_type": "execute_result"
    }
   ],
   "source": [
    "elemShopName = elems[1].find_element(By.CLASS_NAME, 'sc-bwcZwS')\n",
    "elemShopName.text.split(\"│\")[0]"
   ]
  },
  {
   "cell_type": "code",
   "execution_count": 16,
   "id": "9fb9751e-2814-4a06-ae0b-1834b65bce97",
   "metadata": {},
   "outputs": [
    {
     "data": {
      "text/plain": [
       "'☆新卒歓迎☆アシスタント期間中でも昇給あり！/引越・住宅手当あり/その他手当多数'"
      ]
     },
     "execution_count": 16,
     "metadata": {},
     "output_type": "execute_result"
    }
   ],
   "source": [
    "elemCatchCopy = elems[3].find_element(By.CLASS_NAME, 'header-text')\n",
    "elemCatchCopy.text"
   ]
  },
  {
   "cell_type": "code",
   "execution_count": 21,
   "id": "6a643700-90e5-496d-b5a1-b7c570791aa2",
   "metadata": {},
   "outputs": [
    {
     "data": {
      "text/plain": [
       "'正社員 / 月給20万円 〜 25万円'"
      ]
     },
     "execution_count": 21,
     "metadata": {},
     "output_type": "execute_result"
    }
   ],
   "source": [
    "elemSalary = elems[4].find_element(By.TAG_NAME, 'dd')\n",
    "elemSalary.text"
   ]
  },
  {
   "cell_type": "code",
   "execution_count": 26,
   "id": "5abc6ce2-88e0-429d-b65a-2672671c63f8",
   "metadata": {},
   "outputs": [
    {
     "data": {
      "text/plain": [
       "'北海道札幌市 厚別中央1条2丁目1-58 ニュープログレスビル1F'"
      ]
     },
     "execution_count": 26,
     "metadata": {},
     "output_type": "execute_result"
    }
   ],
   "source": [
    "elemAccess = elems[2].find_elements(By.CLASS_NAME, 'js-link-expand__unlink')\n",
    "elemAccess[0].text"
   ]
  },
  {
   "cell_type": "code",
   "execution_count": null,
   "id": "82dc8b3a-befa-4ba0-a108-135d3a1207c7",
   "metadata": {},
   "outputs": [],
   "source": []
  }
 ],
 "metadata": {
  "kernelspec": {
   "display_name": "Python 3 (ipykernel)",
   "language": "python",
   "name": "python3"
  },
  "language_info": {
   "codemirror_mode": {
    "name": "ipython",
    "version": 3
   },
   "file_extension": ".py",
   "mimetype": "text/x-python",
   "name": "python",
   "nbconvert_exporter": "python",
   "pygments_lexer": "ipython3",
   "version": "3.8.18"
  }
 },
 "nbformat": 4,
 "nbformat_minor": 5
}
